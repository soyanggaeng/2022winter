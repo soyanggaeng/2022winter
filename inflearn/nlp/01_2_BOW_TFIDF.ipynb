{
  "nbformat": 4,
  "nbformat_minor": 0,
  "metadata": {
    "colab": {
      "provenance": []
    },
    "kernelspec": {
      "name": "python3",
      "display_name": "Python 3"
    },
    "language_info": {
      "name": "python"
    }
  },
  "cells": [
    {
      "cell_type": "markdown",
      "source": [
        "- BOW(Bag of Words)   \n",
        "- TF-IDF(Term Frequency - Inverse Document Frequency)   \n",
        "- 앞으로는 Word Embedding으로 Keras word API 사용"
      ],
      "metadata": {
        "id": "BNC6m7WtPiWi"
      }
    },
    {
      "cell_type": "code",
      "execution_count": 1,
      "metadata": {
        "id": "Dpv2mqpkPecw"
      },
      "outputs": [],
      "source": [
        "import pandas as pd\n",
        "\n",
        "# Let It Be Forgotten by Sara Teasdale\n",
        "sentences = ['Let it be forgotten as a flower is forgotten,',\n",
        "             'Forgotten as a fire that once was singing gold.',\n",
        "             'Let it be forgotten forever and ever.',\n",
        "             'Time is a kind friend, he will make us old.',\n",
        "             'If anyone should ask say it was forgotten,',\n",
        "             'Long and long ago. As a flower, as a fire, as a hushed foot-fall',\n",
        "             'In a long forgotten snow.']"
      ]
    },
    {
      "cell_type": "markdown",
      "source": [
        "## 1. Bag of Word(BOW)\n",
        "\n",
        "- CountVectorizer   \n",
        "  - min_df: vocabulary에 포함할 최소 발생 빈도  \n",
        "  - ngram_range: (1,1) unigram / (1,2) unigram+bigram  \n",
        "  - max_features: top max_features 만으로 vocabulary 구성   \n",
        "  - token_pattern = (?u)\\b\\w\\w+\\b: uncode 영숫자 2글자 이상만 포함   \n",
        "    - \\b boundary, \\w 단어  \n",
        "    - a dog 에서 'a' 빠짐"
      ],
      "metadata": {
        "id": "QRvZ96GBP5J0"
      }
    },
    {
      "cell_type": "code",
      "source": [
        "from sklearn.feature_extraction.text import CountVectorizer\n",
        "\n",
        "count_vectorizer = CountVectorizer()\n",
        "count_vectorizer"
      ],
      "metadata": {
        "colab": {
          "base_uri": "https://localhost:8080/"
        },
        "id": "ThI1WBBKP4XK",
        "outputId": "f4917d23-f33d-4838-c603-6cc515d4c37c"
      },
      "execution_count": 2,
      "outputs": [
        {
          "output_type": "execute_result",
          "data": {
            "text/plain": [
              "CountVectorizer()"
            ]
          },
          "metadata": {},
          "execution_count": 2
        }
      ]
    },
    {
      "cell_type": "markdown",
      "source": [
        "### Text vs token Matrix 생성"
      ],
      "metadata": {
        "id": "fhBuTohCQcys"
      }
    },
    {
      "cell_type": "code",
      "source": [
        "features = count_vectorizer.fit_transform(sentences) # 학습시키는 것것\n",
        "features"
      ],
      "metadata": {
        "colab": {
          "base_uri": "https://localhost:8080/"
        },
        "id": "tUBYfavgQYHB",
        "outputId": "cb16a4cf-aafb-4683-dd23-df7326616c9f"
      },
      "execution_count": 3,
      "outputs": [
        {
          "output_type": "execute_result",
          "data": {
            "text/plain": [
              "<7x36 sparse matrix of type '<class 'numpy.int64'>'\n",
              "\twith 52 stored elements in Compressed Sparse Row format>"
            ]
          },
          "metadata": {},
          "execution_count": 3
        }
      ]
    },
    {
      "cell_type": "markdown",
      "source": [
        "sparse matrix: 0이 많이 채워져 있는 데이터는 굉장히 메모리 loss가 많다, 그래서 파이썬이 이를 보완하기 위해 가지고 있는 특수한 형태"
      ],
      "metadata": {
        "id": "-a9H_9vhUPc2"
      }
    },
    {
      "cell_type": "code",
      "source": [
        "features.shape"
      ],
      "metadata": {
        "colab": {
          "base_uri": "https://localhost:8080/"
        },
        "id": "T8PVroQ_Qhix",
        "outputId": "3e89e61a-a0a2-46f0-d1d5-fb8c925d50ed"
      },
      "execution_count": 4,
      "outputs": [
        {
          "output_type": "execute_result",
          "data": {
            "text/plain": [
              "(7, 36)"
            ]
          },
          "metadata": {},
          "execution_count": 4
        }
      ]
    },
    {
      "cell_type": "code",
      "source": [
        "vectorized_sentences = features.toarray()\n",
        "print(\"feature/column name:\", count_vectorizer.get_feature_names())\n",
        "print(vectorized_sentences)"
      ],
      "metadata": {
        "colab": {
          "base_uri": "https://localhost:8080/"
        },
        "id": "2xXa9vLvRbtm",
        "outputId": "9d49738c-d93f-4851-8d0f-bed84b4d6809"
      },
      "execution_count": 7,
      "outputs": [
        {
          "output_type": "stream",
          "name": "stdout",
          "text": [
            "feature/column name: ['ago', 'and', 'anyone', 'as', 'ask', 'be', 'ever', 'fall', 'fire', 'flower', 'foot', 'forever', 'forgotten', 'friend', 'gold', 'he', 'hushed', 'if', 'in', 'is', 'it', 'kind', 'let', 'long', 'make', 'old', 'once', 'say', 'should', 'singing', 'snow', 'that', 'time', 'us', 'was', 'will']\n",
            "[[0 0 0 1 0 1 0 0 0 1 0 0 2 0 0 0 0 0 0 1 1 0 1 0 0 0 0 0 0 0 0 0 0 0 0 0]\n",
            " [0 0 0 1 0 0 0 0 1 0 0 0 1 0 1 0 0 0 0 0 0 0 0 0 0 0 1 0 0 1 0 1 0 0 1 0]\n",
            " [0 1 0 0 0 1 1 0 0 0 0 1 1 0 0 0 0 0 0 0 1 0 1 0 0 0 0 0 0 0 0 0 0 0 0 0]\n",
            " [0 0 0 0 0 0 0 0 0 0 0 0 0 1 0 1 0 0 0 1 0 1 0 0 1 1 0 0 0 0 0 0 1 1 0 1]\n",
            " [0 0 1 0 1 0 0 0 0 0 0 0 1 0 0 0 0 1 0 0 1 0 0 0 0 0 0 1 1 0 0 0 0 0 1 0]\n",
            " [1 1 0 3 0 0 0 1 1 1 1 0 0 0 0 0 1 0 0 0 0 0 0 2 0 0 0 0 0 0 0 0 0 0 0 0]\n",
            " [0 0 0 0 0 0 0 0 0 0 0 0 1 0 0 0 0 0 1 0 0 0 0 1 0 0 0 0 0 0 1 0 0 0 0 0]]\n"
          ]
        },
        {
          "output_type": "stream",
          "name": "stderr",
          "text": [
            "/usr/local/lib/python3.8/dist-packages/sklearn/utils/deprecation.py:87: FutureWarning: Function get_feature_names is deprecated; get_feature_names is deprecated in 1.0 and will be removed in 1.2. Please use get_feature_names_out instead.\n",
            "  warnings.warn(msg, category=FutureWarning)\n"
          ]
        }
      ]
    },
    {
      "cell_type": "code",
      "source": [
        "df = pd.DataFrame(vectorized_sentences, columns=count_vectorizer.get_feature_names())\n",
        "df"
      ],
      "metadata": {
        "colab": {
          "base_uri": "https://localhost:8080/",
          "height": 398
        },
        "id": "fC2IORReR934",
        "outputId": "bd7fb33d-19c8-45a5-bb2c-d1910dff486f"
      },
      "execution_count": 6,
      "outputs": [
        {
          "output_type": "stream",
          "name": "stderr",
          "text": [
            "/usr/local/lib/python3.8/dist-packages/sklearn/utils/deprecation.py:87: FutureWarning: Function get_feature_names is deprecated; get_feature_names is deprecated in 1.0 and will be removed in 1.2. Please use get_feature_names_out instead.\n",
            "  warnings.warn(msg, category=FutureWarning)\n"
          ]
        },
        {
          "output_type": "execute_result",
          "data": {
            "text/plain": [
              "   ago  and  anyone  as  ask  be  ever  fall  fire  flower  ...  once  say  \\\n",
              "0    0    0       0   1    0   1     0     0     0       1  ...     0    0   \n",
              "1    0    0       0   1    0   0     0     0     1       0  ...     1    0   \n",
              "2    0    1       0   0    0   1     1     0     0       0  ...     0    0   \n",
              "3    0    0       0   0    0   0     0     0     0       0  ...     0    0   \n",
              "4    0    0       1   0    1   0     0     0     0       0  ...     0    1   \n",
              "5    1    1       0   3    0   0     0     1     1       1  ...     0    0   \n",
              "6    0    0       0   0    0   0     0     0     0       0  ...     0    0   \n",
              "\n",
              "   should  singing  snow  that  time  us  was  will  \n",
              "0       0        0     0     0     0   0    0     0  \n",
              "1       0        1     0     1     0   0    1     0  \n",
              "2       0        0     0     0     0   0    0     0  \n",
              "3       0        0     0     0     1   1    0     1  \n",
              "4       1        0     0     0     0   0    1     0  \n",
              "5       0        0     0     0     0   0    0     0  \n",
              "6       0        0     1     0     0   0    0     0  \n",
              "\n",
              "[7 rows x 36 columns]"
            ],
            "text/html": [
              "\n",
              "  <div id=\"df-f130a1a9-05bd-4319-82fe-b3f940083725\">\n",
              "    <div class=\"colab-df-container\">\n",
              "      <div>\n",
              "<style scoped>\n",
              "    .dataframe tbody tr th:only-of-type {\n",
              "        vertical-align: middle;\n",
              "    }\n",
              "\n",
              "    .dataframe tbody tr th {\n",
              "        vertical-align: top;\n",
              "    }\n",
              "\n",
              "    .dataframe thead th {\n",
              "        text-align: right;\n",
              "    }\n",
              "</style>\n",
              "<table border=\"1\" class=\"dataframe\">\n",
              "  <thead>\n",
              "    <tr style=\"text-align: right;\">\n",
              "      <th></th>\n",
              "      <th>ago</th>\n",
              "      <th>and</th>\n",
              "      <th>anyone</th>\n",
              "      <th>as</th>\n",
              "      <th>ask</th>\n",
              "      <th>be</th>\n",
              "      <th>ever</th>\n",
              "      <th>fall</th>\n",
              "      <th>fire</th>\n",
              "      <th>flower</th>\n",
              "      <th>...</th>\n",
              "      <th>once</th>\n",
              "      <th>say</th>\n",
              "      <th>should</th>\n",
              "      <th>singing</th>\n",
              "      <th>snow</th>\n",
              "      <th>that</th>\n",
              "      <th>time</th>\n",
              "      <th>us</th>\n",
              "      <th>was</th>\n",
              "      <th>will</th>\n",
              "    </tr>\n",
              "  </thead>\n",
              "  <tbody>\n",
              "    <tr>\n",
              "      <th>0</th>\n",
              "      <td>0</td>\n",
              "      <td>0</td>\n",
              "      <td>0</td>\n",
              "      <td>1</td>\n",
              "      <td>0</td>\n",
              "      <td>1</td>\n",
              "      <td>0</td>\n",
              "      <td>0</td>\n",
              "      <td>0</td>\n",
              "      <td>1</td>\n",
              "      <td>...</td>\n",
              "      <td>0</td>\n",
              "      <td>0</td>\n",
              "      <td>0</td>\n",
              "      <td>0</td>\n",
              "      <td>0</td>\n",
              "      <td>0</td>\n",
              "      <td>0</td>\n",
              "      <td>0</td>\n",
              "      <td>0</td>\n",
              "      <td>0</td>\n",
              "    </tr>\n",
              "    <tr>\n",
              "      <th>1</th>\n",
              "      <td>0</td>\n",
              "      <td>0</td>\n",
              "      <td>0</td>\n",
              "      <td>1</td>\n",
              "      <td>0</td>\n",
              "      <td>0</td>\n",
              "      <td>0</td>\n",
              "      <td>0</td>\n",
              "      <td>1</td>\n",
              "      <td>0</td>\n",
              "      <td>...</td>\n",
              "      <td>1</td>\n",
              "      <td>0</td>\n",
              "      <td>0</td>\n",
              "      <td>1</td>\n",
              "      <td>0</td>\n",
              "      <td>1</td>\n",
              "      <td>0</td>\n",
              "      <td>0</td>\n",
              "      <td>1</td>\n",
              "      <td>0</td>\n",
              "    </tr>\n",
              "    <tr>\n",
              "      <th>2</th>\n",
              "      <td>0</td>\n",
              "      <td>1</td>\n",
              "      <td>0</td>\n",
              "      <td>0</td>\n",
              "      <td>0</td>\n",
              "      <td>1</td>\n",
              "      <td>1</td>\n",
              "      <td>0</td>\n",
              "      <td>0</td>\n",
              "      <td>0</td>\n",
              "      <td>...</td>\n",
              "      <td>0</td>\n",
              "      <td>0</td>\n",
              "      <td>0</td>\n",
              "      <td>0</td>\n",
              "      <td>0</td>\n",
              "      <td>0</td>\n",
              "      <td>0</td>\n",
              "      <td>0</td>\n",
              "      <td>0</td>\n",
              "      <td>0</td>\n",
              "    </tr>\n",
              "    <tr>\n",
              "      <th>3</th>\n",
              "      <td>0</td>\n",
              "      <td>0</td>\n",
              "      <td>0</td>\n",
              "      <td>0</td>\n",
              "      <td>0</td>\n",
              "      <td>0</td>\n",
              "      <td>0</td>\n",
              "      <td>0</td>\n",
              "      <td>0</td>\n",
              "      <td>0</td>\n",
              "      <td>...</td>\n",
              "      <td>0</td>\n",
              "      <td>0</td>\n",
              "      <td>0</td>\n",
              "      <td>0</td>\n",
              "      <td>0</td>\n",
              "      <td>0</td>\n",
              "      <td>1</td>\n",
              "      <td>1</td>\n",
              "      <td>0</td>\n",
              "      <td>1</td>\n",
              "    </tr>\n",
              "    <tr>\n",
              "      <th>4</th>\n",
              "      <td>0</td>\n",
              "      <td>0</td>\n",
              "      <td>1</td>\n",
              "      <td>0</td>\n",
              "      <td>1</td>\n",
              "      <td>0</td>\n",
              "      <td>0</td>\n",
              "      <td>0</td>\n",
              "      <td>0</td>\n",
              "      <td>0</td>\n",
              "      <td>...</td>\n",
              "      <td>0</td>\n",
              "      <td>1</td>\n",
              "      <td>1</td>\n",
              "      <td>0</td>\n",
              "      <td>0</td>\n",
              "      <td>0</td>\n",
              "      <td>0</td>\n",
              "      <td>0</td>\n",
              "      <td>1</td>\n",
              "      <td>0</td>\n",
              "    </tr>\n",
              "    <tr>\n",
              "      <th>5</th>\n",
              "      <td>1</td>\n",
              "      <td>1</td>\n",
              "      <td>0</td>\n",
              "      <td>3</td>\n",
              "      <td>0</td>\n",
              "      <td>0</td>\n",
              "      <td>0</td>\n",
              "      <td>1</td>\n",
              "      <td>1</td>\n",
              "      <td>1</td>\n",
              "      <td>...</td>\n",
              "      <td>0</td>\n",
              "      <td>0</td>\n",
              "      <td>0</td>\n",
              "      <td>0</td>\n",
              "      <td>0</td>\n",
              "      <td>0</td>\n",
              "      <td>0</td>\n",
              "      <td>0</td>\n",
              "      <td>0</td>\n",
              "      <td>0</td>\n",
              "    </tr>\n",
              "    <tr>\n",
              "      <th>6</th>\n",
              "      <td>0</td>\n",
              "      <td>0</td>\n",
              "      <td>0</td>\n",
              "      <td>0</td>\n",
              "      <td>0</td>\n",
              "      <td>0</td>\n",
              "      <td>0</td>\n",
              "      <td>0</td>\n",
              "      <td>0</td>\n",
              "      <td>0</td>\n",
              "      <td>...</td>\n",
              "      <td>0</td>\n",
              "      <td>0</td>\n",
              "      <td>0</td>\n",
              "      <td>0</td>\n",
              "      <td>1</td>\n",
              "      <td>0</td>\n",
              "      <td>0</td>\n",
              "      <td>0</td>\n",
              "      <td>0</td>\n",
              "      <td>0</td>\n",
              "    </tr>\n",
              "  </tbody>\n",
              "</table>\n",
              "<p>7 rows × 36 columns</p>\n",
              "</div>\n",
              "      <button class=\"colab-df-convert\" onclick=\"convertToInteractive('df-f130a1a9-05bd-4319-82fe-b3f940083725')\"\n",
              "              title=\"Convert this dataframe to an interactive table.\"\n",
              "              style=\"display:none;\">\n",
              "        \n",
              "  <svg xmlns=\"http://www.w3.org/2000/svg\" height=\"24px\"viewBox=\"0 0 24 24\"\n",
              "       width=\"24px\">\n",
              "    <path d=\"M0 0h24v24H0V0z\" fill=\"none\"/>\n",
              "    <path d=\"M18.56 5.44l.94 2.06.94-2.06 2.06-.94-2.06-.94-.94-2.06-.94 2.06-2.06.94zm-11 1L8.5 8.5l.94-2.06 2.06-.94-2.06-.94L8.5 2.5l-.94 2.06-2.06.94zm10 10l.94 2.06.94-2.06 2.06-.94-2.06-.94-.94-2.06-.94 2.06-2.06.94z\"/><path d=\"M17.41 7.96l-1.37-1.37c-.4-.4-.92-.59-1.43-.59-.52 0-1.04.2-1.43.59L10.3 9.45l-7.72 7.72c-.78.78-.78 2.05 0 2.83L4 21.41c.39.39.9.59 1.41.59.51 0 1.02-.2 1.41-.59l7.78-7.78 2.81-2.81c.8-.78.8-2.07 0-2.86zM5.41 20L4 18.59l7.72-7.72 1.47 1.35L5.41 20z\"/>\n",
              "  </svg>\n",
              "      </button>\n",
              "      \n",
              "  <style>\n",
              "    .colab-df-container {\n",
              "      display:flex;\n",
              "      flex-wrap:wrap;\n",
              "      gap: 12px;\n",
              "    }\n",
              "\n",
              "    .colab-df-convert {\n",
              "      background-color: #E8F0FE;\n",
              "      border: none;\n",
              "      border-radius: 50%;\n",
              "      cursor: pointer;\n",
              "      display: none;\n",
              "      fill: #1967D2;\n",
              "      height: 32px;\n",
              "      padding: 0 0 0 0;\n",
              "      width: 32px;\n",
              "    }\n",
              "\n",
              "    .colab-df-convert:hover {\n",
              "      background-color: #E2EBFA;\n",
              "      box-shadow: 0px 1px 2px rgba(60, 64, 67, 0.3), 0px 1px 3px 1px rgba(60, 64, 67, 0.15);\n",
              "      fill: #174EA6;\n",
              "    }\n",
              "\n",
              "    [theme=dark] .colab-df-convert {\n",
              "      background-color: #3B4455;\n",
              "      fill: #D2E3FC;\n",
              "    }\n",
              "\n",
              "    [theme=dark] .colab-df-convert:hover {\n",
              "      background-color: #434B5C;\n",
              "      box-shadow: 0px 1px 3px 1px rgba(0, 0, 0, 0.15);\n",
              "      filter: drop-shadow(0px 1px 2px rgba(0, 0, 0, 0.3));\n",
              "      fill: #FFFFFF;\n",
              "    }\n",
              "  </style>\n",
              "\n",
              "      <script>\n",
              "        const buttonEl =\n",
              "          document.querySelector('#df-f130a1a9-05bd-4319-82fe-b3f940083725 button.colab-df-convert');\n",
              "        buttonEl.style.display =\n",
              "          google.colab.kernel.accessAllowed ? 'block' : 'none';\n",
              "\n",
              "        async function convertToInteractive(key) {\n",
              "          const element = document.querySelector('#df-f130a1a9-05bd-4319-82fe-b3f940083725');\n",
              "          const dataTable =\n",
              "            await google.colab.kernel.invokeFunction('convertToInteractive',\n",
              "                                                     [key], {});\n",
              "          if (!dataTable) return;\n",
              "\n",
              "          const docLinkHtml = 'Like what you see? Visit the ' +\n",
              "            '<a target=\"_blank\" href=https://colab.research.google.com/notebooks/data_table.ipynb>data table notebook</a>'\n",
              "            + ' to learn more about interactive tables.';\n",
              "          element.innerHTML = '';\n",
              "          dataTable['output_type'] = 'display_data';\n",
              "          await google.colab.output.renderOutput(dataTable, element);\n",
              "          const docLink = document.createElement('div');\n",
              "          docLink.innerHTML = docLinkHtml;\n",
              "          element.appendChild(docLink);\n",
              "        }\n",
              "      </script>\n",
              "    </div>\n",
              "  </div>\n",
              "  "
            ]
          },
          "metadata": {},
          "execution_count": 6
        }
      ]
    },
    {
      "cell_type": "markdown",
      "source": [
        "BOW는 단순하게 문장 안에서 몇 번 자주 나타난 건지를 나타내는 것"
      ],
      "metadata": {
        "id": "4D6i3ZWjTr2h"
      }
    },
    {
      "cell_type": "markdown",
      "source": [
        "## 2. TF-IDF\n",
        "Term Frequency-Inverse Document Frequency"
      ],
      "metadata": {
        "id": "6RZqG7QgTzjO"
      }
    },
    {
      "cell_type": "code",
      "source": [
        "from sklearn.feature_extraction.text import TfidfVectorizer\n",
        "\n",
        "tfidf_vectorizer = TfidfVectorizer()\n",
        "tfidf_vectorizer"
      ],
      "metadata": {
        "colab": {
          "base_uri": "https://localhost:8080/"
        },
        "id": "Tni9TmzVSbDY",
        "outputId": "aea3db9d-6095-41a5-d7d7-9cef2407e65a"
      },
      "execution_count": 9,
      "outputs": [
        {
          "output_type": "execute_result",
          "data": {
            "text/plain": [
              "TfidfVectorizer()"
            ]
          },
          "metadata": {},
          "execution_count": 9
        }
      ]
    },
    {
      "cell_type": "code",
      "source": [
        "tfidf_sentences = tfidf_vectorizer.fit_transform(sentences)\n",
        "tfidf_sentences"
      ],
      "metadata": {
        "colab": {
          "base_uri": "https://localhost:8080/"
        },
        "id": "b1NEQCgEUBJ_",
        "outputId": "76a1c8c2-788d-4c54-e645-fdf6485011d4"
      },
      "execution_count": 10,
      "outputs": [
        {
          "output_type": "execute_result",
          "data": {
            "text/plain": [
              "<7x36 sparse matrix of type '<class 'numpy.float64'>'\n",
              "\twith 52 stored elements in Compressed Sparse Row format>"
            ]
          },
          "metadata": {},
          "execution_count": 10
        }
      ]
    },
    {
      "cell_type": "code",
      "source": [
        "tfidf_vect_sentences = tfidf_sentences.toarray()\n",
        "tfidf_vect_sentences"
      ],
      "metadata": {
        "colab": {
          "base_uri": "https://localhost:8080/"
        },
        "id": "LGcjR7aIUllh",
        "outputId": "c0545923-a3bd-4f24-938c-6e01e5b5ce87"
      },
      "execution_count": 11,
      "outputs": [
        {
          "output_type": "execute_result",
          "data": {
            "text/plain": [
              "array([[0.        , 0.        , 0.        , 0.31962828, 0.        ,\n",
              "        0.37393622, 0.        , 0.        , 0.        , 0.37393622,\n",
              "        0.        , 0.        , 0.4861711 , 0.        , 0.        ,\n",
              "        0.        , 0.        , 0.        , 0.        , 0.37393622,\n",
              "        0.31962828, 0.        , 0.37393622, 0.        , 0.        ,\n",
              "        0.        , 0.        , 0.        , 0.        , 0.        ,\n",
              "        0.        , 0.        , 0.        , 0.        , 0.        ,\n",
              "        0.        ],\n",
              "       [0.        , 0.        , 0.        , 0.28558343, 0.        ,\n",
              "        0.        , 0.        , 0.        , 0.33410682, 0.        ,\n",
              "        0.        , 0.        , 0.21719356, 0.        , 0.40249669,\n",
              "        0.        , 0.        , 0.        , 0.        , 0.        ,\n",
              "        0.        , 0.        , 0.        , 0.        , 0.        ,\n",
              "        0.        , 0.40249669, 0.        , 0.        , 0.40249669,\n",
              "        0.        , 0.40249669, 0.        , 0.        , 0.33410682,\n",
              "        0.        ],\n",
              "       [0.        , 0.376467  , 0.        , 0.        , 0.        ,\n",
              "        0.376467  , 0.45352777, 0.        , 0.        , 0.        ,\n",
              "        0.        , 0.45352777, 0.24473074, 0.        , 0.        ,\n",
              "        0.        , 0.        , 0.        , 0.        , 0.        ,\n",
              "        0.32179151, 0.        , 0.376467  , 0.        , 0.        ,\n",
              "        0.        , 0.        , 0.        , 0.        , 0.        ,\n",
              "        0.        , 0.        , 0.        , 0.        , 0.        ,\n",
              "        0.        ],\n",
              "       [0.        , 0.        , 0.        , 0.        , 0.        ,\n",
              "        0.        , 0.        , 0.        , 0.        , 0.        ,\n",
              "        0.        , 0.        , 0.        , 0.33924545, 0.        ,\n",
              "        0.33924545, 0.        , 0.        , 0.        , 0.28160286,\n",
              "        0.        , 0.33924545, 0.        , 0.        , 0.33924545,\n",
              "        0.33924545, 0.        , 0.        , 0.        , 0.        ,\n",
              "        0.        , 0.        , 0.33924545, 0.33924545, 0.        ,\n",
              "        0.33924545],\n",
              "       [0.        , 0.        , 0.39272619, 0.        , 0.39272619,\n",
              "        0.        , 0.        , 0.        , 0.        , 0.        ,\n",
              "        0.        , 0.        , 0.21192125, 0.        , 0.        ,\n",
              "        0.        , 0.        , 0.39272619, 0.        , 0.        ,\n",
              "        0.27865097, 0.        , 0.        , 0.        , 0.        ,\n",
              "        0.        , 0.        , 0.39272619, 0.39272619, 0.        ,\n",
              "        0.        , 0.        , 0.        , 0.        , 0.32599647,\n",
              "        0.        ],\n",
              "       [0.27364732, 0.22715077, 0.        , 0.58248285, 0.        ,\n",
              "        0.        , 0.        , 0.27364732, 0.22715077, 0.22715077,\n",
              "        0.27364732, 0.        , 0.        , 0.        , 0.        ,\n",
              "        0.        , 0.27364732, 0.        , 0.        , 0.        ,\n",
              "        0.        , 0.        , 0.        , 0.45430155, 0.        ,\n",
              "        0.        , 0.        , 0.        , 0.        , 0.        ,\n",
              "        0.        , 0.        , 0.        , 0.        , 0.        ,\n",
              "        0.        ],\n",
              "       [0.        , 0.        , 0.        , 0.        , 0.        ,\n",
              "        0.        , 0.        , 0.        , 0.        , 0.        ,\n",
              "        0.        , 0.        , 0.31257908, 0.        , 0.        ,\n",
              "        0.        , 0.        , 0.        , 0.57926231, 0.        ,\n",
              "        0.        , 0.        , 0.        , 0.48083747, 0.        ,\n",
              "        0.        , 0.        , 0.        , 0.        , 0.        ,\n",
              "        0.57926231, 0.        , 0.        , 0.        , 0.        ,\n",
              "        0.        ]])"
            ]
          },
          "metadata": {},
          "execution_count": 11
        }
      ]
    },
    {
      "cell_type": "markdown",
      "source": [
        "뭔가 normalized된 형태임"
      ],
      "metadata": {
        "id": "dSMJx63EU1dP"
      }
    },
    {
      "cell_type": "code",
      "source": [
        "df = pd.DataFrame(tfidf_vect_sentences, columns=tfidf_vectorizer.get_feature_names())\n",
        "df"
      ],
      "metadata": {
        "colab": {
          "base_uri": "https://localhost:8080/",
          "height": 398
        },
        "id": "TW7Ez-98UwML",
        "outputId": "f21cfe49-6aee-41d8-de05-a4e8bd314716"
      },
      "execution_count": 12,
      "outputs": [
        {
          "output_type": "stream",
          "name": "stderr",
          "text": [
            "/usr/local/lib/python3.8/dist-packages/sklearn/utils/deprecation.py:87: FutureWarning: Function get_feature_names is deprecated; get_feature_names is deprecated in 1.0 and will be removed in 1.2. Please use get_feature_names_out instead.\n",
            "  warnings.warn(msg, category=FutureWarning)\n"
          ]
        },
        {
          "output_type": "execute_result",
          "data": {
            "text/plain": [
              "        ago       and    anyone        as       ask        be      ever  \\\n",
              "0  0.000000  0.000000  0.000000  0.319628  0.000000  0.373936  0.000000   \n",
              "1  0.000000  0.000000  0.000000  0.285583  0.000000  0.000000  0.000000   \n",
              "2  0.000000  0.376467  0.000000  0.000000  0.000000  0.376467  0.453528   \n",
              "3  0.000000  0.000000  0.000000  0.000000  0.000000  0.000000  0.000000   \n",
              "4  0.000000  0.000000  0.392726  0.000000  0.392726  0.000000  0.000000   \n",
              "5  0.273647  0.227151  0.000000  0.582483  0.000000  0.000000  0.000000   \n",
              "6  0.000000  0.000000  0.000000  0.000000  0.000000  0.000000  0.000000   \n",
              "\n",
              "       fall      fire    flower  ...      once       say    should   singing  \\\n",
              "0  0.000000  0.000000  0.373936  ...  0.000000  0.000000  0.000000  0.000000   \n",
              "1  0.000000  0.334107  0.000000  ...  0.402497  0.000000  0.000000  0.402497   \n",
              "2  0.000000  0.000000  0.000000  ...  0.000000  0.000000  0.000000  0.000000   \n",
              "3  0.000000  0.000000  0.000000  ...  0.000000  0.000000  0.000000  0.000000   \n",
              "4  0.000000  0.000000  0.000000  ...  0.000000  0.392726  0.392726  0.000000   \n",
              "5  0.273647  0.227151  0.227151  ...  0.000000  0.000000  0.000000  0.000000   \n",
              "6  0.000000  0.000000  0.000000  ...  0.000000  0.000000  0.000000  0.000000   \n",
              "\n",
              "       snow      that      time        us       was      will  \n",
              "0  0.000000  0.000000  0.000000  0.000000  0.000000  0.000000  \n",
              "1  0.000000  0.402497  0.000000  0.000000  0.334107  0.000000  \n",
              "2  0.000000  0.000000  0.000000  0.000000  0.000000  0.000000  \n",
              "3  0.000000  0.000000  0.339245  0.339245  0.000000  0.339245  \n",
              "4  0.000000  0.000000  0.000000  0.000000  0.325996  0.000000  \n",
              "5  0.000000  0.000000  0.000000  0.000000  0.000000  0.000000  \n",
              "6  0.579262  0.000000  0.000000  0.000000  0.000000  0.000000  \n",
              "\n",
              "[7 rows x 36 columns]"
            ],
            "text/html": [
              "\n",
              "  <div id=\"df-e2eee7ee-56ff-4b01-b82a-d6eb25241b25\">\n",
              "    <div class=\"colab-df-container\">\n",
              "      <div>\n",
              "<style scoped>\n",
              "    .dataframe tbody tr th:only-of-type {\n",
              "        vertical-align: middle;\n",
              "    }\n",
              "\n",
              "    .dataframe tbody tr th {\n",
              "        vertical-align: top;\n",
              "    }\n",
              "\n",
              "    .dataframe thead th {\n",
              "        text-align: right;\n",
              "    }\n",
              "</style>\n",
              "<table border=\"1\" class=\"dataframe\">\n",
              "  <thead>\n",
              "    <tr style=\"text-align: right;\">\n",
              "      <th></th>\n",
              "      <th>ago</th>\n",
              "      <th>and</th>\n",
              "      <th>anyone</th>\n",
              "      <th>as</th>\n",
              "      <th>ask</th>\n",
              "      <th>be</th>\n",
              "      <th>ever</th>\n",
              "      <th>fall</th>\n",
              "      <th>fire</th>\n",
              "      <th>flower</th>\n",
              "      <th>...</th>\n",
              "      <th>once</th>\n",
              "      <th>say</th>\n",
              "      <th>should</th>\n",
              "      <th>singing</th>\n",
              "      <th>snow</th>\n",
              "      <th>that</th>\n",
              "      <th>time</th>\n",
              "      <th>us</th>\n",
              "      <th>was</th>\n",
              "      <th>will</th>\n",
              "    </tr>\n",
              "  </thead>\n",
              "  <tbody>\n",
              "    <tr>\n",
              "      <th>0</th>\n",
              "      <td>0.000000</td>\n",
              "      <td>0.000000</td>\n",
              "      <td>0.000000</td>\n",
              "      <td>0.319628</td>\n",
              "      <td>0.000000</td>\n",
              "      <td>0.373936</td>\n",
              "      <td>0.000000</td>\n",
              "      <td>0.000000</td>\n",
              "      <td>0.000000</td>\n",
              "      <td>0.373936</td>\n",
              "      <td>...</td>\n",
              "      <td>0.000000</td>\n",
              "      <td>0.000000</td>\n",
              "      <td>0.000000</td>\n",
              "      <td>0.000000</td>\n",
              "      <td>0.000000</td>\n",
              "      <td>0.000000</td>\n",
              "      <td>0.000000</td>\n",
              "      <td>0.000000</td>\n",
              "      <td>0.000000</td>\n",
              "      <td>0.000000</td>\n",
              "    </tr>\n",
              "    <tr>\n",
              "      <th>1</th>\n",
              "      <td>0.000000</td>\n",
              "      <td>0.000000</td>\n",
              "      <td>0.000000</td>\n",
              "      <td>0.285583</td>\n",
              "      <td>0.000000</td>\n",
              "      <td>0.000000</td>\n",
              "      <td>0.000000</td>\n",
              "      <td>0.000000</td>\n",
              "      <td>0.334107</td>\n",
              "      <td>0.000000</td>\n",
              "      <td>...</td>\n",
              "      <td>0.402497</td>\n",
              "      <td>0.000000</td>\n",
              "      <td>0.000000</td>\n",
              "      <td>0.402497</td>\n",
              "      <td>0.000000</td>\n",
              "      <td>0.402497</td>\n",
              "      <td>0.000000</td>\n",
              "      <td>0.000000</td>\n",
              "      <td>0.334107</td>\n",
              "      <td>0.000000</td>\n",
              "    </tr>\n",
              "    <tr>\n",
              "      <th>2</th>\n",
              "      <td>0.000000</td>\n",
              "      <td>0.376467</td>\n",
              "      <td>0.000000</td>\n",
              "      <td>0.000000</td>\n",
              "      <td>0.000000</td>\n",
              "      <td>0.376467</td>\n",
              "      <td>0.453528</td>\n",
              "      <td>0.000000</td>\n",
              "      <td>0.000000</td>\n",
              "      <td>0.000000</td>\n",
              "      <td>...</td>\n",
              "      <td>0.000000</td>\n",
              "      <td>0.000000</td>\n",
              "      <td>0.000000</td>\n",
              "      <td>0.000000</td>\n",
              "      <td>0.000000</td>\n",
              "      <td>0.000000</td>\n",
              "      <td>0.000000</td>\n",
              "      <td>0.000000</td>\n",
              "      <td>0.000000</td>\n",
              "      <td>0.000000</td>\n",
              "    </tr>\n",
              "    <tr>\n",
              "      <th>3</th>\n",
              "      <td>0.000000</td>\n",
              "      <td>0.000000</td>\n",
              "      <td>0.000000</td>\n",
              "      <td>0.000000</td>\n",
              "      <td>0.000000</td>\n",
              "      <td>0.000000</td>\n",
              "      <td>0.000000</td>\n",
              "      <td>0.000000</td>\n",
              "      <td>0.000000</td>\n",
              "      <td>0.000000</td>\n",
              "      <td>...</td>\n",
              "      <td>0.000000</td>\n",
              "      <td>0.000000</td>\n",
              "      <td>0.000000</td>\n",
              "      <td>0.000000</td>\n",
              "      <td>0.000000</td>\n",
              "      <td>0.000000</td>\n",
              "      <td>0.339245</td>\n",
              "      <td>0.339245</td>\n",
              "      <td>0.000000</td>\n",
              "      <td>0.339245</td>\n",
              "    </tr>\n",
              "    <tr>\n",
              "      <th>4</th>\n",
              "      <td>0.000000</td>\n",
              "      <td>0.000000</td>\n",
              "      <td>0.392726</td>\n",
              "      <td>0.000000</td>\n",
              "      <td>0.392726</td>\n",
              "      <td>0.000000</td>\n",
              "      <td>0.000000</td>\n",
              "      <td>0.000000</td>\n",
              "      <td>0.000000</td>\n",
              "      <td>0.000000</td>\n",
              "      <td>...</td>\n",
              "      <td>0.000000</td>\n",
              "      <td>0.392726</td>\n",
              "      <td>0.392726</td>\n",
              "      <td>0.000000</td>\n",
              "      <td>0.000000</td>\n",
              "      <td>0.000000</td>\n",
              "      <td>0.000000</td>\n",
              "      <td>0.000000</td>\n",
              "      <td>0.325996</td>\n",
              "      <td>0.000000</td>\n",
              "    </tr>\n",
              "    <tr>\n",
              "      <th>5</th>\n",
              "      <td>0.273647</td>\n",
              "      <td>0.227151</td>\n",
              "      <td>0.000000</td>\n",
              "      <td>0.582483</td>\n",
              "      <td>0.000000</td>\n",
              "      <td>0.000000</td>\n",
              "      <td>0.000000</td>\n",
              "      <td>0.273647</td>\n",
              "      <td>0.227151</td>\n",
              "      <td>0.227151</td>\n",
              "      <td>...</td>\n",
              "      <td>0.000000</td>\n",
              "      <td>0.000000</td>\n",
              "      <td>0.000000</td>\n",
              "      <td>0.000000</td>\n",
              "      <td>0.000000</td>\n",
              "      <td>0.000000</td>\n",
              "      <td>0.000000</td>\n",
              "      <td>0.000000</td>\n",
              "      <td>0.000000</td>\n",
              "      <td>0.000000</td>\n",
              "    </tr>\n",
              "    <tr>\n",
              "      <th>6</th>\n",
              "      <td>0.000000</td>\n",
              "      <td>0.000000</td>\n",
              "      <td>0.000000</td>\n",
              "      <td>0.000000</td>\n",
              "      <td>0.000000</td>\n",
              "      <td>0.000000</td>\n",
              "      <td>0.000000</td>\n",
              "      <td>0.000000</td>\n",
              "      <td>0.000000</td>\n",
              "      <td>0.000000</td>\n",
              "      <td>...</td>\n",
              "      <td>0.000000</td>\n",
              "      <td>0.000000</td>\n",
              "      <td>0.000000</td>\n",
              "      <td>0.000000</td>\n",
              "      <td>0.579262</td>\n",
              "      <td>0.000000</td>\n",
              "      <td>0.000000</td>\n",
              "      <td>0.000000</td>\n",
              "      <td>0.000000</td>\n",
              "      <td>0.000000</td>\n",
              "    </tr>\n",
              "  </tbody>\n",
              "</table>\n",
              "<p>7 rows × 36 columns</p>\n",
              "</div>\n",
              "      <button class=\"colab-df-convert\" onclick=\"convertToInteractive('df-e2eee7ee-56ff-4b01-b82a-d6eb25241b25')\"\n",
              "              title=\"Convert this dataframe to an interactive table.\"\n",
              "              style=\"display:none;\">\n",
              "        \n",
              "  <svg xmlns=\"http://www.w3.org/2000/svg\" height=\"24px\"viewBox=\"0 0 24 24\"\n",
              "       width=\"24px\">\n",
              "    <path d=\"M0 0h24v24H0V0z\" fill=\"none\"/>\n",
              "    <path d=\"M18.56 5.44l.94 2.06.94-2.06 2.06-.94-2.06-.94-.94-2.06-.94 2.06-2.06.94zm-11 1L8.5 8.5l.94-2.06 2.06-.94-2.06-.94L8.5 2.5l-.94 2.06-2.06.94zm10 10l.94 2.06.94-2.06 2.06-.94-2.06-.94-.94-2.06-.94 2.06-2.06.94z\"/><path d=\"M17.41 7.96l-1.37-1.37c-.4-.4-.92-.59-1.43-.59-.52 0-1.04.2-1.43.59L10.3 9.45l-7.72 7.72c-.78.78-.78 2.05 0 2.83L4 21.41c.39.39.9.59 1.41.59.51 0 1.02-.2 1.41-.59l7.78-7.78 2.81-2.81c.8-.78.8-2.07 0-2.86zM5.41 20L4 18.59l7.72-7.72 1.47 1.35L5.41 20z\"/>\n",
              "  </svg>\n",
              "      </button>\n",
              "      \n",
              "  <style>\n",
              "    .colab-df-container {\n",
              "      display:flex;\n",
              "      flex-wrap:wrap;\n",
              "      gap: 12px;\n",
              "    }\n",
              "\n",
              "    .colab-df-convert {\n",
              "      background-color: #E8F0FE;\n",
              "      border: none;\n",
              "      border-radius: 50%;\n",
              "      cursor: pointer;\n",
              "      display: none;\n",
              "      fill: #1967D2;\n",
              "      height: 32px;\n",
              "      padding: 0 0 0 0;\n",
              "      width: 32px;\n",
              "    }\n",
              "\n",
              "    .colab-df-convert:hover {\n",
              "      background-color: #E2EBFA;\n",
              "      box-shadow: 0px 1px 2px rgba(60, 64, 67, 0.3), 0px 1px 3px 1px rgba(60, 64, 67, 0.15);\n",
              "      fill: #174EA6;\n",
              "    }\n",
              "\n",
              "    [theme=dark] .colab-df-convert {\n",
              "      background-color: #3B4455;\n",
              "      fill: #D2E3FC;\n",
              "    }\n",
              "\n",
              "    [theme=dark] .colab-df-convert:hover {\n",
              "      background-color: #434B5C;\n",
              "      box-shadow: 0px 1px 3px 1px rgba(0, 0, 0, 0.15);\n",
              "      filter: drop-shadow(0px 1px 2px rgba(0, 0, 0, 0.3));\n",
              "      fill: #FFFFFF;\n",
              "    }\n",
              "  </style>\n",
              "\n",
              "      <script>\n",
              "        const buttonEl =\n",
              "          document.querySelector('#df-e2eee7ee-56ff-4b01-b82a-d6eb25241b25 button.colab-df-convert');\n",
              "        buttonEl.style.display =\n",
              "          google.colab.kernel.accessAllowed ? 'block' : 'none';\n",
              "\n",
              "        async function convertToInteractive(key) {\n",
              "          const element = document.querySelector('#df-e2eee7ee-56ff-4b01-b82a-d6eb25241b25');\n",
              "          const dataTable =\n",
              "            await google.colab.kernel.invokeFunction('convertToInteractive',\n",
              "                                                     [key], {});\n",
              "          if (!dataTable) return;\n",
              "\n",
              "          const docLinkHtml = 'Like what you see? Visit the ' +\n",
              "            '<a target=\"_blank\" href=https://colab.research.google.com/notebooks/data_table.ipynb>data table notebook</a>'\n",
              "            + ' to learn more about interactive tables.';\n",
              "          element.innerHTML = '';\n",
              "          dataTable['output_type'] = 'display_data';\n",
              "          await google.colab.output.renderOutput(dataTable, element);\n",
              "          const docLink = document.createElement('div');\n",
              "          docLink.innerHTML = docLinkHtml;\n",
              "          element.appendChild(docLink);\n",
              "        }\n",
              "      </script>\n",
              "    </div>\n",
              "  </div>\n",
              "  "
            ]
          },
          "metadata": {},
          "execution_count": 12
        }
      ]
    },
    {
      "cell_type": "markdown",
      "source": [
        "## 3. keras word encoding \n",
        "- keras API 이용   "
      ],
      "metadata": {
        "id": "C7A0TjZkVZe2"
      }
    },
    {
      "cell_type": "code",
      "source": [
        "import tensorflow as tf\n",
        "from tensorflow import keras\n",
        "from tensorflow.keras.preprocessing.text import Tokenizer\n",
        "from tensorflow.keras.preprocessing.sequence import pad_sequences # 줄 길이 맞춰주는 거\n",
        "from tensorflow.keras.utils import to_categorical # 원핫인코딩"
      ],
      "metadata": {
        "id": "CRGQD0GBVI-b"
      },
      "execution_count": 13,
      "outputs": []
    },
    {
      "cell_type": "code",
      "source": [
        "tokenizer = Tokenizer(num_words=100, oov_token = '<OOV>') \n",
        "  # num_words = vocab 사전 만들 건데 몇 단어짜리일 건지\n",
        "  # oov_token = 단어사전에 없는 건 어떻게 표시할 거냐. 보통은 oov, unk"
      ],
      "metadata": {
        "id": "6U2t3UgTV14A"
      },
      "execution_count": 14,
      "outputs": []
    },
    {
      "cell_type": "code",
      "source": [
        "tokenizer.fit_on_texts(sentences)\n",
        "tokenizer.word_index\n",
        "# 파이썬 딕셔너리 특징, 순서가 없다. "
      ],
      "metadata": {
        "colab": {
          "base_uri": "https://localhost:8080/"
        },
        "id": "ICbIrM2ZWScp",
        "outputId": "c8389858-dae3-4fa7-d014-77aa4a1bcec1"
      },
      "execution_count": 15,
      "outputs": [
        {
          "output_type": "execute_result",
          "data": {
            "text/plain": [
              "{'<OOV>': 1,\n",
              " 'a': 2,\n",
              " 'forgotten': 3,\n",
              " 'as': 4,\n",
              " 'it': 5,\n",
              " 'long': 6,\n",
              " 'let': 7,\n",
              " 'be': 8,\n",
              " 'flower': 9,\n",
              " 'is': 10,\n",
              " 'fire': 11,\n",
              " 'was': 12,\n",
              " 'and': 13,\n",
              " 'that': 14,\n",
              " 'once': 15,\n",
              " 'singing': 16,\n",
              " 'gold': 17,\n",
              " 'forever': 18,\n",
              " 'ever': 19,\n",
              " 'time': 20,\n",
              " 'kind': 21,\n",
              " 'friend': 22,\n",
              " 'he': 23,\n",
              " 'will': 24,\n",
              " 'make': 25,\n",
              " 'us': 26,\n",
              " 'old': 27,\n",
              " 'if': 28,\n",
              " 'anyone': 29,\n",
              " 'should': 30,\n",
              " 'ask': 31,\n",
              " 'say': 32,\n",
              " 'ago': 33,\n",
              " 'hushed': 34,\n",
              " 'foot': 35,\n",
              " 'fall': 36,\n",
              " 'in': 37,\n",
              " 'snow': 38}"
            ]
          },
          "metadata": {},
          "execution_count": 15
        }
      ]
    },
    {
      "cell_type": "code",
      "source": [
        "tokenizer.index_word\n",
        "# 순서 거꾸로"
      ],
      "metadata": {
        "colab": {
          "base_uri": "https://localhost:8080/"
        },
        "id": "8A0GS6xHWdEm",
        "outputId": "ab3b9d1b-e5ba-4766-c1c8-9bab18b6d043"
      },
      "execution_count": 16,
      "outputs": [
        {
          "output_type": "execute_result",
          "data": {
            "text/plain": [
              "{1: '<OOV>',\n",
              " 2: 'a',\n",
              " 3: 'forgotten',\n",
              " 4: 'as',\n",
              " 5: 'it',\n",
              " 6: 'long',\n",
              " 7: 'let',\n",
              " 8: 'be',\n",
              " 9: 'flower',\n",
              " 10: 'is',\n",
              " 11: 'fire',\n",
              " 12: 'was',\n",
              " 13: 'and',\n",
              " 14: 'that',\n",
              " 15: 'once',\n",
              " 16: 'singing',\n",
              " 17: 'gold',\n",
              " 18: 'forever',\n",
              " 19: 'ever',\n",
              " 20: 'time',\n",
              " 21: 'kind',\n",
              " 22: 'friend',\n",
              " 23: 'he',\n",
              " 24: 'will',\n",
              " 25: 'make',\n",
              " 26: 'us',\n",
              " 27: 'old',\n",
              " 28: 'if',\n",
              " 29: 'anyone',\n",
              " 30: 'should',\n",
              " 31: 'ask',\n",
              " 32: 'say',\n",
              " 33: 'ago',\n",
              " 34: 'hushed',\n",
              " 35: 'foot',\n",
              " 36: 'fall',\n",
              " 37: 'in',\n",
              " 38: 'snow'}"
            ]
          },
          "metadata": {},
          "execution_count": 16
        }
      ]
    },
    {
      "cell_type": "code",
      "source": [
        "sequences = tokenizer.texts_to_sequences(sentences) # 문장을 숫자로 바꾸기\n",
        "sequences"
      ],
      "metadata": {
        "colab": {
          "base_uri": "https://localhost:8080/"
        },
        "id": "XjBNfEz0Wmep",
        "outputId": "1062d30a-e47a-43ab-b67f-61603db95f9a"
      },
      "execution_count": 17,
      "outputs": [
        {
          "output_type": "execute_result",
          "data": {
            "text/plain": [
              "[[7, 5, 8, 3, 4, 2, 9, 10, 3],\n",
              " [3, 4, 2, 11, 14, 15, 12, 16, 17],\n",
              " [7, 5, 8, 3, 18, 13, 19],\n",
              " [20, 10, 2, 21, 22, 23, 24, 25, 26, 27],\n",
              " [28, 29, 30, 31, 32, 5, 12, 3],\n",
              " [6, 13, 6, 33, 4, 2, 9, 4, 2, 11, 4, 2, 34, 35, 36],\n",
              " [37, 2, 6, 3, 38]]"
            ]
          },
          "metadata": {},
          "execution_count": 17
        }
      ]
    },
    {
      "cell_type": "code",
      "source": [
        "sentences\n",
        "# 대응시켜 보면 치환됨을 알 수 있음"
      ],
      "metadata": {
        "colab": {
          "base_uri": "https://localhost:8080/"
        },
        "id": "TCOHZGoUW52Q",
        "outputId": "1fbf7c57-7783-4d08-d900-2bc16ccaed0e"
      },
      "execution_count": 18,
      "outputs": [
        {
          "output_type": "execute_result",
          "data": {
            "text/plain": [
              "['Let it be forgotten as a flower is forgotten,',\n",
              " 'Forgotten as a fire that once was singing gold.',\n",
              " 'Let it be forgotten forever and ever.',\n",
              " 'Time is a kind friend, he will make us old.',\n",
              " 'If anyone should ask say it was forgotten,',\n",
              " 'Long and long ago. As a flower, as a fire, as a hushed foot-fall',\n",
              " 'In a long forgotten snow.']"
            ]
          },
          "metadata": {},
          "execution_count": 18
        }
      ]
    },
    {
      "cell_type": "code",
      "source": [
        "# 길이 맞춰주기 위해 padding\n",
        "padded = pad_sequences(sequences, padding='post') \n",
        "  # 길이가 짧을 때 어떻게 해줄 거냐(default는 앞쪽 채우기, post는 뒤로)\n",
        "padded"
      ],
      "metadata": {
        "colab": {
          "base_uri": "https://localhost:8080/"
        },
        "id": "lAgxrT9-W9dc",
        "outputId": "30518d2b-d5f1-4bb0-e750-f43da4e94f73"
      },
      "execution_count": 20,
      "outputs": [
        {
          "output_type": "execute_result",
          "data": {
            "text/plain": [
              "array([[ 7,  5,  8,  3,  4,  2,  9, 10,  3,  0,  0,  0,  0,  0,  0],\n",
              "       [ 3,  4,  2, 11, 14, 15, 12, 16, 17,  0,  0,  0,  0,  0,  0],\n",
              "       [ 7,  5,  8,  3, 18, 13, 19,  0,  0,  0,  0,  0,  0,  0,  0],\n",
              "       [20, 10,  2, 21, 22, 23, 24, 25, 26, 27,  0,  0,  0,  0,  0],\n",
              "       [28, 29, 30, 31, 32,  5, 12,  3,  0,  0,  0,  0,  0,  0,  0],\n",
              "       [ 6, 13,  6, 33,  4,  2,  9,  4,  2, 11,  4,  2, 34, 35, 36],\n",
              "       [37,  2,  6,  3, 38,  0,  0,  0,  0,  0,  0,  0,  0,  0,  0]],\n",
              "      dtype=int32)"
            ]
          },
          "metadata": {},
          "execution_count": 20
        }
      ]
    },
    {
      "cell_type": "code",
      "source": [
        "for sequence in sequences:\n",
        "  sent = []\n",
        "  for idx in sequence:\n",
        "    sent.append(tokenizer.index_word[idx])\n",
        "  print(' '.join(sent)) # sentence 복원하기"
      ],
      "metadata": {
        "colab": {
          "base_uri": "https://localhost:8080/"
        },
        "id": "SlqhwoZiXbmi",
        "outputId": "63978d40-ce57-4ebf-b96f-0ef603a8a619"
      },
      "execution_count": 22,
      "outputs": [
        {
          "output_type": "stream",
          "name": "stdout",
          "text": [
            "let it be forgotten as a flower is forgotten\n",
            "forgotten as a fire that once was singing gold\n",
            "let it be forgotten forever and ever\n",
            "time is a kind friend he will make us old\n",
            "if anyone should ask say it was forgotten\n",
            "long and long ago as a flower as a fire as a hushed foot fall\n",
            "in a long forgotten snow\n"
          ]
        }
      ]
    },
    {
      "cell_type": "code",
      "source": [
        "padded = pad_sequences(sequences, padding='post', maxlen=5)\n",
        "to_categorical(padded)"
      ],
      "metadata": {
        "colab": {
          "base_uri": "https://localhost:8080/"
        },
        "id": "ZF3suDFiYHpD",
        "outputId": "087062ec-1bdf-472f-f566-01964c28e5ba"
      },
      "execution_count": 25,
      "outputs": [
        {
          "output_type": "execute_result",
          "data": {
            "text/plain": [
              "array([[[0., 0., 0., ..., 0., 0., 0.],\n",
              "        [0., 0., 1., ..., 0., 0., 0.],\n",
              "        [0., 0., 0., ..., 0., 0., 0.],\n",
              "        [0., 0., 0., ..., 0., 0., 0.],\n",
              "        [0., 0., 0., ..., 0., 0., 0.]],\n",
              "\n",
              "       [[0., 0., 0., ..., 0., 0., 0.],\n",
              "        [0., 0., 0., ..., 0., 0., 0.],\n",
              "        [0., 0., 0., ..., 0., 0., 0.],\n",
              "        [0., 0., 0., ..., 0., 0., 0.],\n",
              "        [0., 0., 0., ..., 0., 0., 0.]],\n",
              "\n",
              "       [[0., 0., 0., ..., 0., 0., 0.],\n",
              "        [0., 0., 0., ..., 0., 0., 0.],\n",
              "        [0., 0., 0., ..., 0., 0., 0.],\n",
              "        [0., 0., 0., ..., 0., 0., 0.],\n",
              "        [0., 0., 0., ..., 0., 0., 0.]],\n",
              "\n",
              "       ...,\n",
              "\n",
              "       [[0., 0., 0., ..., 0., 0., 0.],\n",
              "        [0., 0., 0., ..., 0., 0., 0.],\n",
              "        [0., 0., 0., ..., 0., 0., 0.],\n",
              "        [0., 0., 0., ..., 0., 0., 0.],\n",
              "        [0., 0., 0., ..., 0., 0., 0.]],\n",
              "\n",
              "       [[0., 0., 0., ..., 0., 0., 0.],\n",
              "        [0., 0., 1., ..., 0., 0., 0.],\n",
              "        [0., 0., 0., ..., 0., 0., 0.],\n",
              "        [0., 0., 0., ..., 0., 0., 0.],\n",
              "        [0., 0., 0., ..., 1., 0., 0.]],\n",
              "\n",
              "       [[0., 0., 0., ..., 0., 1., 0.],\n",
              "        [0., 0., 1., ..., 0., 0., 0.],\n",
              "        [0., 0., 0., ..., 0., 0., 0.],\n",
              "        [0., 0., 0., ..., 0., 0., 0.],\n",
              "        [0., 0., 0., ..., 0., 0., 1.]]], dtype=float32)"
            ]
          },
          "metadata": {},
          "execution_count": 25
        }
      ]
    },
    {
      "cell_type": "code",
      "source": [],
      "metadata": {
        "id": "zWr9nXlsYPM0"
      },
      "execution_count": null,
      "outputs": []
    }
  ]
}